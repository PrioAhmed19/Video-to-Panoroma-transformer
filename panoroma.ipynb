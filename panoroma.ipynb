{
  "cells": [
    {
      "cell_type": "code",
      "execution_count": 5,
      "metadata": {
        "colab": {
          "base_uri": "https://localhost:8080/"
        },
        "id": "fjsPkllTQYeU",
        "outputId": "eb97fc27-13c4-4488-bd4e-2a3093d001fb"
      },
      "outputs": [
        {
          "name": "stdout",
          "output_type": "stream",
          "text": [
            "Requirement already satisfied: opencv-python in e:\\python\\lib\\site-packages (4.10.0.84)\n",
            "Requirement already satisfied: numpy>=1.21.2 in e:\\python\\lib\\site-packages (from opencv-python) (2.2.0)\n",
            "Note: you may need to restart the kernel to use updated packages.\n"
          ]
        },
        {
          "name": "stderr",
          "output_type": "stream",
          "text": [
            "\n",
            "[notice] A new release of pip is available: 24.2 -> 24.3.1\n",
            "[notice] To update, run: python.exe -m pip install --upgrade pip\n"
          ]
        }
      ],
      "source": [
        "pip install opencv-python"
      ]
    },
    {
      "cell_type": "code",
      "execution_count": 15,
      "metadata": {
        "colab": {
          "base_uri": "https://localhost:8080/"
        },
        "id": "_t1uzVxih8E1",
        "outputId": "aae757e5-2a3d-4a75-af72-1c052ebd3730"
      },
      "outputs": [
        {
          "name": "stdout",
          "output_type": "stream",
          "text": [
            "Please provide the video file (drag and drop the file here or type the full file name):\n"
          ]
        }
      ],
      "source": [
        "import cv2\n",
        "\n",
        "def get_video_details():\n",
        "    # Prompt the user to provide the video file\n",
        "    print(\"Please provide the video file (drag and drop the file here or type the full file name):\")\n",
        "    video_path = input(\"Video File: \").strip()\n",
        "\n",
        "    if not video_path:\n",
        "        print(\"No file provided. Exiting.\")\n",
        "        return None\n",
        "\n",
        "    # Open the selected video file\n",
        "    cap = cv2.VideoCapture(video_path)\n",
        "\n",
        "    if not cap.isOpened():\n",
        "        print(\"Error: Could not open the video file. Please ensure the file path is correct.\")\n",
        "        return None\n",
        "\n",
        "    # Extract video details if successfully opened\n",
        "    frame_count = int(cap.get(cv2.CAP_PROP_FRAME_COUNT))\n",
        "    frame_rate = cap.get(cv2.CAP_PROP_FPS)\n",
        "    duration = frame_count / frame_rate if frame_rate else 0\n",
        "\n",
        "    print(f\"\\nVideo Details:\")\n",
        "    print(f\"- File: {video_path}\")\n",
        "    print(f\"- Total Frames: {frame_count}\")\n",
        "    print(f\"- Frame Rate (FPS): {frame_rate}\")\n",
        "    print(f\"- Duration (seconds): {duration:.2f}\")\n",
        "    \n",
        "    cap.release()\n",
        "    return {\n",
        "        \"video_path\": video_path,\n",
        "        \"frame_count\": frame_count,\n",
        "        \"frame_rate\": frame_rate,\n",
        "        \"duration\": duration\n",
        "    }\n",
        "\n",
        "# Example usage\n",
        "if __name__ == \"__main__\":\n",
        "    video_details = get_video_details()\n",
        "    if video_details:\n",
        "        print(\"\\nVideo processing complete!\")\n"
      ]
    },
    {
      "cell_type": "code",
      "execution_count": 7,
      "metadata": {
        "colab": {
          "base_uri": "https://localhost:8080/"
        },
        "id": "fHt8UF4lQbl4",
        "outputId": "97243c0a-8ebe-4780-e271-5fe70f9cb10c"
      },
      "outputs": [
        {
          "name": "stdout",
          "output_type": "stream",
          "text": [
            "Error: Could not open video.\n"
          ]
        }
      ],
      "source": [
        "#Since its a 8.5 sec video, I choose to capture every 10th frame, after storing all the frames; I just stich them and get the panoroma shot\n",
        "\n",
        "import os\n",
        "\n",
        "def capture_frames(video_path, output_dir, frame_interval=10):\n",
        "    \"\"\"Capture every nth frame from a video and save it as an image.\"\"\"\n",
        "    # Open the video file\n",
        "    cap = cv2.VideoCapture(video_path)\n",
        "\n",
        "    if not cap.isOpened():\n",
        "        print(\"Error: Could not open video.\")\n",
        "        return\n",
        "\n",
        "    # Create output directory if it doesn't exist\n",
        "    if not os.path.exists(output_dir):\n",
        "        os.makedirs(output_dir)\n",
        "\n",
        "    frame_count = 0\n",
        "    saved_frame_count = 0\n",
        "\n",
        "    while True:\n",
        "        ret, frame = cap.read()\n",
        "        if not ret:\n",
        "            break\n",
        "\n",
        "        # Capture every nth frame\n",
        "        if frame_count % frame_interval == 0:\n",
        "            # Construct the filename\n",
        "            frame_filename = os.path.join(output_dir, f'frame_{saved_frame_count:04d}.jpg')\n",
        "            # Save the frame as an image\n",
        "            cv2.imwrite(frame_filename, frame)\n",
        "            print(f'Saved: {frame_filename}')\n",
        "            saved_frame_count += 1\n",
        "\n",
        "        frame_count += 1\n",
        "\n",
        "    cap.release()\n",
        "    print(\"Frame capture complete.\")\n",
        "\n",
        "if __name__ == \"__main__\":\n",
        "    video_path = '/content/video.mp4'  # Path to video file\n",
        "    output_dir = 'captured_frames'          # Directory to save captured frames\n",
        "    capture_frames(video_path, output_dir)"
      ]
    },
    {
      "cell_type": "code",
      "execution_count": 8,
      "metadata": {
        "colab": {
          "base_uri": "https://localhost:8080/",
          "height": 52
        },
        "id": "DXjKNRJeb9qo",
        "outputId": "a05d9b6b-9394-4743-fdb7-ab3e3018cb5b"
      },
      "outputs": [
        {
          "ename": "FileNotFoundError",
          "evalue": "[WinError 3] The system cannot find the path specified: '/content/captured_frames'",
          "output_type": "error",
          "traceback": [
            "\u001b[1;31m---------------------------------------------------------------------------\u001b[0m",
            "\u001b[1;31mFileNotFoundError\u001b[0m                         Traceback (most recent call last)",
            "Cell \u001b[1;32mIn[8], line 27\u001b[0m\n\u001b[0;32m     25\u001b[0m \u001b[38;5;66;03m# Main Functionality\u001b[39;00m\n\u001b[0;32m     26\u001b[0m image_folder \u001b[38;5;241m=\u001b[39m \u001b[38;5;124mf\u001b[39m\u001b[38;5;124m\"\u001b[39m\u001b[38;5;124m/content/\u001b[39m\u001b[38;5;132;01m{\u001b[39;00moutput_dir\u001b[38;5;132;01m}\u001b[39;00m\u001b[38;5;124m\"\u001b[39m  \u001b[38;5;66;03m# Update to your directory\u001b[39;00m\n\u001b[1;32m---> 27\u001b[0m images \u001b[38;5;241m=\u001b[39m \u001b[43mload_images\u001b[49m\u001b[43m(\u001b[49m\u001b[43mimage_folder\u001b[49m\u001b[43m)\u001b[49m\n\u001b[0;32m     28\u001b[0m \u001b[38;5;28mprint\u001b[39m(\u001b[38;5;124mf\u001b[39m\u001b[38;5;124m\"\u001b[39m\u001b[38;5;124mLoaded \u001b[39m\u001b[38;5;132;01m{\u001b[39;00m\u001b[38;5;28mlen\u001b[39m(images)\u001b[38;5;132;01m}\u001b[39;00m\u001b[38;5;124m images for stitching.\u001b[39m\u001b[38;5;124m\"\u001b[39m)\n\u001b[0;32m     30\u001b[0m \u001b[38;5;28;01mif\u001b[39;00m \u001b[38;5;28mlen\u001b[39m(images) \u001b[38;5;241m>\u001b[39m \u001b[38;5;241m1\u001b[39m:\n",
            "Cell \u001b[1;32mIn[8], line 6\u001b[0m, in \u001b[0;36mload_images\u001b[1;34m(image_folder)\u001b[0m\n\u001b[0;32m      4\u001b[0m \u001b[38;5;28;01mdef\u001b[39;00m \u001b[38;5;21mload_images\u001b[39m(image_folder):\n\u001b[0;32m      5\u001b[0m     images \u001b[38;5;241m=\u001b[39m []\n\u001b[1;32m----> 6\u001b[0m     \u001b[38;5;28;01mfor\u001b[39;00m filename \u001b[38;5;129;01min\u001b[39;00m \u001b[38;5;28msorted\u001b[39m(\u001b[43mos\u001b[49m\u001b[38;5;241;43m.\u001b[39;49m\u001b[43mlistdir\u001b[49m\u001b[43m(\u001b[49m\u001b[43mimage_folder\u001b[49m\u001b[43m)\u001b[49m):\n\u001b[0;32m      7\u001b[0m         \u001b[38;5;28;01mif\u001b[39;00m filename\u001b[38;5;241m.\u001b[39mendswith(\u001b[38;5;124m\"\u001b[39m\u001b[38;5;124m.jpg\u001b[39m\u001b[38;5;124m\"\u001b[39m) \u001b[38;5;129;01mor\u001b[39;00m filename\u001b[38;5;241m.\u001b[39mendswith(\u001b[38;5;124m\"\u001b[39m\u001b[38;5;124m.png\u001b[39m\u001b[38;5;124m\"\u001b[39m):\n\u001b[0;32m      8\u001b[0m             img_path \u001b[38;5;241m=\u001b[39m os\u001b[38;5;241m.\u001b[39mpath\u001b[38;5;241m.\u001b[39mjoin(image_folder, filename)\n",
            "\u001b[1;31mFileNotFoundError\u001b[0m: [WinError 3] The system cannot find the path specified: '/content/captured_frames'"
          ]
        }
      ],
      "source": [
        "import os\n",
        "\n",
        "# Step 1: Load Images from /content/captured_frames\n",
        "def load_images(image_folder):\n",
        "    images = []\n",
        "    for filename in sorted(os.listdir(image_folder)):\n",
        "        if filename.endswith(\".jpg\") or filename.endswith(\".png\"):\n",
        "            img_path = os.path.join(image_folder, filename)\n",
        "            image = cv2.imread(img_path)\n",
        "            if image is not None:\n",
        "                images.append(image)\n",
        "    return images\n",
        "\n",
        "def stitch_images(images):\n",
        "    # Create a stitcher object\n",
        "    stitcher = cv2.Stitcher_create() if int(cv2.__version__.split('.')[0]) >= 4 else cv2.createStitcher()\n",
        "    status, panorama = stitcher.stitch(images)\n",
        "\n",
        "    if status == cv2.Stitcher_OK:\n",
        "        return panorama\n",
        "    else:\n",
        "        print(f\"Stitching failed with error code: {status}\")\n",
        "        return None\n",
        "\n",
        "# Main Functionality\n",
        "image_folder = f\"/content/{output_dir}\"  # Update to your directory\n",
        "images = load_images(image_folder)\n",
        "print(f\"Loaded {len(images)} images for stitching.\")\n",
        "\n",
        "if len(images) > 1:\n",
        "    panorama = stitch_images(images)\n",
        "    if panorama is not None:\n",
        "        output_path = \"/content/stitched_panorama.jpg\"\n",
        "        cv2.imwrite(output_path, panorama)\n",
        "        print(f\"Panorama saved as '{output_path}'.\")\n",
        "\n",
        "        # Step 3: Download Panorama\n",
        "        from google.colab import files\n",
        "        files.download(output_path)\n",
        "    else:\n",
        "        print(\"Failed to create a panorama.\")\n",
        "else:\n",
        "    print(\"Not enough images to stitch.\")\n"
      ]
    }
  ],
  "metadata": {
    "colab": {
      "provenance": []
    },
    "kernelspec": {
      "display_name": "Python 3",
      "name": "python3"
    },
    "language_info": {
      "codemirror_mode": {
        "name": "ipython",
        "version": 3
      },
      "file_extension": ".py",
      "mimetype": "text/x-python",
      "name": "python",
      "nbconvert_exporter": "python",
      "pygments_lexer": "ipython3",
      "version": "3.13.0"
    }
  },
  "nbformat": 4,
  "nbformat_minor": 0
}
